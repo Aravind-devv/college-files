{
 "cells": [
  {
   "cell_type": "markdown",
   "metadata": {},
   "source": [
    "# 2. String Programs"
   ]
  },
  {
   "cell_type": "markdown",
   "metadata": {
    "id": "Raa5wkFKQbDA"
   },
   "source": [
    "# 20EUAI005 ARAVIND G\n"
   ]
  },
  {
   "cell_type": "markdown",
   "metadata": {},
   "source": [
    "# AIM\n",
    "TO COMPLETE ALL PROGRAMS"
   ]
  },
  {
   "cell_type": "markdown",
   "metadata": {
    "id": "t5JX7R-YQJef"
   },
   "source": [
    "2.1.\tTo check if a string is palindrome or not"
   ]
  },
  {
   "cell_type": "markdown",
   "metadata": {
    "id": "3314fKzQQJew"
   },
   "source": [
    "step 1 : input a string\n",
    "step 2 : reverse the string using indexing\n",
    "step 3 : check if the reversed string is equal to the original string\n",
    "step 4 : print whether the string is palidrome or not"
   ]
  },
  {
   "cell_type": "code",
   "execution_count": null,
   "metadata": {
    "id": "DYEEy2IMQJex",
    "outputId": "2da9c21f-6761-476c-c4e8-3ebaf9d9303c"
   },
   "outputs": [
    {
     "name": "stdout",
     "output_type": "stream",
     "text": [
      "racecar\n",
      "The string is a palindrome\n"
     ]
    }
   ],
   "source": [
    "s = input()\n",
    "if s == s[::-1]:\n",
    "    print(\"The string is a palindrome\")\n",
    "else:\n",
    "    print(\"The string is not a palindrome\")"
   ]
  },
  {
   "cell_type": "markdown",
   "metadata": {
    "id": "HXEoZa1-QJe0"
   },
   "source": [
    "2.2. Reverse words in a given String"
   ]
  },
  {
   "cell_type": "markdown",
   "metadata": {
    "id": "i0IJ2soYQJe1"
   },
   "source": [
    "step 1 : start\n",
    "step 2 : get sentence as input\n",
    "step 3 : split the sentece with whitespace seperator\n",
    "step 4 : reverse the list of words\n",
    "step 5 : iterate and display the words in reverse\n",
    "step 6 : stop"
   ]
  },
  {
   "cell_type": "code",
   "execution_count": null,
   "metadata": {
    "id": "J9Oe0vuTQJe1",
    "outputId": "1d1e2727-6fff-4f16-b60a-0b64b06586e5"
   },
   "outputs": [
    {
     "name": "stdout",
     "output_type": "stream",
     "text": [
      "Python is a programming language\n",
      "language programming a is Python \n"
     ]
    }
   ],
   "source": [
    "s = input()\n",
    "words = s.split()\n",
    "words.reverse()\n",
    "mt = \"\"\n",
    "for w in words:\n",
    "    mt = mt + w + \" \"\n",
    "print(mt)"
   ]
  },
  {
   "cell_type": "markdown",
   "metadata": {
    "id": "FP7CmyPeQJe2"
   },
   "source": [
    "2.3. Ways to remove i’th character from string"
   ]
  },
  {
   "cell_type": "markdown",
   "metadata": {
    "id": "Zlsnhm6JQJe3"
   },
   "source": [
    "step 1 : start\n",
    "step 2 : get the string and index as input\n",
    "step 3 : iterate through the string\n",
    "step 4 : check if the index matches\n",
    "step 5 : if the index does not match join the character to the empty string\n",
    "step 6 : if not pass\n",
    "step 7 : display the string withot the index\n",
    "step 8 : stop"
   ]
  },
  {
   "cell_type": "code",
   "execution_count": null,
   "metadata": {
    "id": "BGo1ArzsQJe3",
    "outputId": "3a10a381-8bda-40f9-c6ca-5eed22e23aef"
   },
   "outputs": [
    {
     "name": "stdout",
     "output_type": "stream",
     "text": [
      "Hello\n",
      "4\n",
      "Hell\n"
     ]
    }
   ],
   "source": [
    "s = input()\n",
    "n = int(input())\n",
    "mt =''\n",
    "for index in range(len(s)):\n",
    "    if index != n:\n",
    "        mt += s[index]\n",
    "    else:\n",
    "        mt += ''\n",
    "print(mt)"
   ]
  },
  {
   "cell_type": "markdown",
   "metadata": {
    "id": "_1d5qPTZQJe5"
   },
   "source": [
    "2.4. Check if a Substring is Present in a Given String"
   ]
  },
  {
   "cell_type": "markdown",
   "metadata": {
    "id": "ssx75sCxQJe6"
   },
   "source": [
    "step 1 : start\n",
    "step 2 : get the string and sub string as input\n",
    "step 3 : check if the sub string is present in the main string\n",
    "step 4 : if the sub string is found display Found\n",
    "step 5 : if not display not found\n",
    "step 6 : stop"
   ]
  },
  {
   "cell_type": "code",
   "execution_count": null,
   "metadata": {
    "id": "6LrdKf-vQJe6",
    "outputId": "758376ab-4c0a-4548-90e1-cebbb145c0a9"
   },
   "outputs": [
    {
     "name": "stdout",
     "output_type": "stream",
     "text": [
      "Hello world\n",
      "world\n",
      "Found\n"
     ]
    }
   ],
   "source": [
    "s = input()\n",
    "sub = input()\n",
    "if s.find(sub) == -1:\n",
    "    print(\"Not found\")\n",
    "else:\n",
    "    print(\"Found\")"
   ]
  },
  {
   "cell_type": "markdown",
   "metadata": {
    "id": "0mqN-oLhQJe7"
   },
   "source": [
    "2.5. To accept the strings which contains all vowels"
   ]
  },
  {
   "cell_type": "markdown",
   "metadata": {
    "id": "-lR5UYcNQJe7"
   },
   "source": [
    "step 1 : start\n",
    "step 2 : predefine vowels in a list and get the string as input\n",
    "step 3 : interate through the string\n",
    "step 4 : check if vowel is present or not\n",
    "step 5 : if vowel is present display input accepted\n",
    "step 6 : if vowel is not present display input not accepted\n",
    "step 7 : stop"
   ]
  },
  {
   "cell_type": "code",
   "execution_count": null,
   "metadata": {
    "id": "hfYyxXoCQJe8",
    "outputId": "4586cbfc-e00a-4074-c1fe-d0172ff844c5"
   },
   "outputs": [
    {
     "name": "stdout",
     "output_type": "stream",
     "text": [
      "Hello\n",
      "Input is accepted\n"
     ]
    }
   ],
   "source": [
    "vowels = ['a', 'e', 'i', 'o', 'u']\n",
    "s = input()\n",
    "count = 0\n",
    "for char in s:\n",
    "    if char in vowels:\n",
    "        count += 1\n",
    "    else:\n",
    "        continue\n",
    "if (count>1):\n",
    "    print(\"Input is accepted\")\n",
    "else:\n",
    "    print(\"Input is not accepted\")"
   ]
  },
  {
   "cell_type": "markdown",
   "metadata": {
    "id": "jzyeFSS2QJe9"
   },
   "source": [
    "Other method for 5th question"
   ]
  },
  {
   "cell_type": "code",
   "execution_count": null,
   "metadata": {
    "id": "N_M8EyGTQJe9",
    "outputId": "8a83d614-48fc-4eda-86d4-89ebefe12b95"
   },
   "outputs": [
    {
     "name": "stdout",
     "output_type": "stream",
     "text": [
      "Pyh\n",
      "Input not accepted\n"
     ]
    }
   ],
   "source": [
    "vowels = ['a', 'e', 'i', 'o', 'u']\n",
    "s = input()\n",
    "for char in s:\n",
    "    if char in vowels:\n",
    "        print(\"Input accepted\")\n",
    "        break\n",
    "else:\n",
    "    print(\"Input not accepted\")\n"
   ]
  },
  {
   "cell_type": "markdown",
   "metadata": {
    "id": "3OYm9EQxQJe_"
   },
   "source": [
    " 2.6 Replace duplicate Occurrence in String"
   ]
  },
  {
   "cell_type": "code",
   "execution_count": null,
   "metadata": {
    "id": "5Nh1RcalQJfA",
    "outputId": "ef6abbff-c755-42bc-db27-be461635fdc9"
   },
   "outputs": [
    {
     "name": "stdout",
     "output_type": "stream",
     "text": [
      "Hello\n",
      "Helo\n"
     ]
    }
   ],
   "source": [
    "s = input()\n",
    "mt = ''\n",
    "index = 0\n",
    "while index<=len(s):\n",
    "    if index+1 != len(s):\n",
    "        if s[index] == s[index+1]:\n",
    "            mt += s[index]\n",
    "            index += 2\n",
    "        else:\n",
    "            mt += s[index]\n",
    "            index += 1\n",
    "    else:\n",
    "        mt += s[index]\n",
    "        break\n",
    "print(mt)\n"
   ]
  },
  {
   "cell_type": "markdown",
   "metadata": {
    "id": "KrwusEbgQJfB"
   },
   "source": [
    "2.7 Check if a string contains any special character 33-47 58-64"
   ]
  },
  {
   "cell_type": "code",
   "execution_count": null,
   "metadata": {
    "id": "D3lnzWvEQJfB",
    "outputId": "bed49c3f-16c1-425c-c6a7-c2b8d189de0d"
   },
   "outputs": [
    {
     "name": "stdout",
     "output_type": "stream",
     "text": [
      "hell$\n",
      "invalid\n"
     ]
    }
   ],
   "source": [
    "o = input()\n",
    "import re\n",
    "if(bool(re.match('^[a-zA-Z0-9]*$',o))==True):\n",
    "    print(\"valid\")\n",
    "else:\n",
    "    print(\"invalid\")"
   ]
  },
  {
   "cell_type": "markdown",
   "metadata": {
    "id": "D1o1wJItQJfC"
   },
   "source": [
    "2.8 Count the Number of matching characters in a pair of string"
   ]
  },
  {
   "cell_type": "code",
   "execution_count": null,
   "metadata": {
    "id": "B7U0yjvhQJfD",
    "outputId": "03b6ba5a-fb2e-49a8-fc08-d97051ad5619"
   },
   "outputs": [
    {
     "name": "stdout",
     "output_type": "stream",
     "text": [
      "abcd\n",
      "frfiuuihfab\n",
      "No. of matching characters are:  2\n"
     ]
    }
   ],
   "source": [
    "str1 = input()\n",
    "str2 = input()\n",
    "\n",
    "c = 0\n",
    "j = 0 \n",
    " \n",
    "for i in range(len(str1)):  \n",
    "    if str1[i] in str2:\n",
    "        c += 1\n",
    "    j += 1\n",
    "\n",
    "print(\"No. of matching characters are: \", c )"
   ]
  },
  {
   "cell_type": "markdown",
   "metadata": {},
   "source": [
    "# RESULT\n",
    "ALL THE PROGRAMS HAS BEEN COMPLETED"
   ]
  }
 ],
 "metadata": {
  "colab": {
   "collapsed_sections": [],
   "name": "20EUAI005-PYLAB02.json",
   "provenance": []
  },
  "kernelspec": {
   "display_name": "Python 3",
   "language": "python",
   "name": "python3"
  },
  "language_info": {
   "codemirror_mode": {
    "name": "ipython",
    "version": 3
   },
   "file_extension": ".py",
   "mimetype": "text/x-python",
   "name": "python",
   "nbconvert_exporter": "python",
   "pygments_lexer": "ipython3",
   "version": "3.8.5"
  }
 },
 "nbformat": 4,
 "nbformat_minor": 1
}
