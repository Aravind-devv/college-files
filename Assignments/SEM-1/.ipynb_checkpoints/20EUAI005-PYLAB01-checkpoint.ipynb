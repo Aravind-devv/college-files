{
 "cells": [
  {
   "cell_type": "markdown",
   "metadata": {},
   "source": [
    "# 1. Programs for Familiarizing with the syntax and basic concepts"
   ]
  },
  {
   "cell_type": "markdown",
   "metadata": {},
   "source": [
    "# 20EUAI005 ARAVIND G\n",
    "DATE : 07/01/2021"
   ]
  },
  {
   "cell_type": "markdown",
   "metadata": {},
   "source": [
    "# Aim\n",
    "To complete all the give problems successfully  \n"
   ]
  },
  {
   "cell_type": "markdown",
   "metadata": {},
   "source": [
    "# ALGORITHM \n",
    "\n",
    "Step1:Start  \n",
    "step2:Read a,b  \n",
    "Step3:Call Sum(a,b) and return a+b  \n",
    "Step4:Call Diff(a,b) and return a-b , a-b  \n",
    "Step5:If Diff>1000 then return diff else sum(n,m)   \n",
    "Step6:stop"
   ]
  },
  {
   "cell_type": "code",
   "execution_count": null,
   "metadata": {},
   "outputs": [],
   "source": [
    "def sum(n,m):\n",
    "    return n+m\n",
    "def diff(n,m):\n",
    "    return n+m,n-m\n",
    "n=int(input(\"Enter first value: \"))\n",
    "m=int(input(\"Enter second value: \"))\n",
    "if(n-m>1000):\n",
    "    print(diff(n,m))\n",
    "else:\n",
    "    print(sum(n,m))"
   ]
  },
  {
   "cell_type": "markdown",
   "metadata": {},
   "source": [
    "# ALGORITHM\n",
    "\n",
    "Step1:Start  \n",
    "Step2:Define lst  \n",
    "Step3:Use for loop in range(5)  \n",
    "step4:Get value from user and append to the lst  \n",
    "step5:if index[0]==index[-1] then print true else print false  \n",
    "step6:stop"
   ]
  },
  {
   "cell_type": "code",
   "execution_count": null,
   "metadata": {},
   "outputs": [],
   "source": [
    "lst=[]\n",
    "for i in range(5):\n",
    "    n=int(input(\"Enter values to be added in list\"))\n",
    "    lst.append(n)\n",
    "if(lst[0]==lst[-1]):\n",
    "    print(True)\n",
    "else:\n",
    "    print(False)"
   ]
  },
  {
   "cell_type": "markdown",
   "metadata": {},
   "source": [
    "# ALGORITHM\n",
    "\n",
    "step1:Start  \n",
    "step2:define lst  \n",
    "step3:using for loop get values from user and append to lst  \n",
    "step4:using for loop check if the values is divisible by 5 then print lst value\n",
    "step4:else skip the else statement  \n",
    "step5:stop"
   ]
  },
  {
   "cell_type": "code",
   "execution_count": null,
   "metadata": {},
   "outputs": [],
   "source": [
    "lst=[]\n",
    "for i in range(5):\n",
    "    n=int(input(\"Enter the Values\"))\n",
    "    lst.append(n)\n",
    "for i in range(5):\n",
    "    if(lst[i]%5==0):\n",
    "        print(lst[i])\n",
    "    else:\n",
    "        pass"
   ]
  },
  {
   "cell_type": "markdown",
   "metadata": {},
   "source": [
    "# ALGORITHM \n",
    "\n",
    "Step1:Start  \n",
    "step2:Read string and store in res  \n",
    "step3:display \"my**name**is**james\"   \n",
    "step4:stop"
   ]
  },
  {
   "cell_type": "code",
   "execution_count": null,
   "metadata": {},
   "outputs": [],
   "source": [
    "res = str(input(\"Enter the name \"))\n",
    "print('\"My**name**is**{}\"'.format(res))"
   ]
  },
  {
   "cell_type": "markdown",
   "metadata": {},
   "source": [
    "# ALGORITHM\n",
    "\n",
    "step1:start  \n",
    "step2:get the decimal number from user  \n",
    "step3:convert deciamal to octal using oct() function\n",
    "step4:print octal value         \n",
    "step5:stop"
   ]
  },
  {
   "cell_type": "code",
   "execution_count": null,
   "metadata": {},
   "outputs": [],
   "source": [
    "n=int(input(\"Enter the decimal number: \"))\n",
    "print(\"Octal value is {}\".format(oct(n)))"
   ]
  },
  {
   "cell_type": "markdown",
   "metadata": {},
   "source": [
    "# ALGORITHM\n",
    "\n",
    "step1:start\n",
    "step2:get value from user in float format\n",
    "step3:using format function coonvert the given value to 2dp\n",
    "step4:stop"
   ]
  },
  {
   "cell_type": "code",
   "execution_count": null,
   "metadata": {},
   "outputs": [],
   "source": [
    "n=float(input(\"Enter the number: \"))\n",
    "print(\"2dp is {:.2f}\".format(n))"
   ]
  },
  {
   "cell_type": "markdown",
   "metadata": {},
   "source": [
    "# ALGORITHM\n",
    "\n",
    "step1:start  \n",
    "step2:declare list to store the values  \n",
    "step3:using for loop get the float values and append to list  \n",
    "step4:STOP"
   ]
  },
  {
   "cell_type": "code",
   "execution_count": null,
   "metadata": {},
   "outputs": [],
   "source": [
    "values=[]\n",
    "for i in range(5):\n",
    "    n=float(input(\"Enter the decimal values:\"))\n",
    "    values.append(values)"
   ]
  },
  {
   "cell_type": "markdown",
   "metadata": {},
   "source": [
    "# ALGORITHM\n",
    "\n",
    "step1:start  \n",
    "step2:declare i=0  \n",
    "step3:while with condition i<10  \n",
    "step4:display index  \n",
    "step5:increment by +1  \n",
    "step6:stop"
   ]
  },
  {
   "cell_type": "code",
   "execution_count": null,
   "metadata": {},
   "outputs": [],
   "source": [
    "i=0\n",
    "while i<10:\n",
    "  print(i)\n",
    "  i+=1"
   ]
  },
  {
   "cell_type": "markdown",
   "metadata": {},
   "source": [
    "# ALGORITHM\n",
    "\n",
    "step1:start  \n",
    "step2:using for i in range print the rows till 5  \n",
    "step3:using nested for j in range print the coloumns  \n",
    "step4:increment the i in j loop\n",
    "step5:print j with end=''\n",
    "step6:print()\n",
    "step7:stop"
   ]
  },
  {
   "cell_type": "code",
   "execution_count": null,
   "metadata": {},
   "outputs": [],
   "source": [
    "for i in range(1,6):\n",
    "    for j in range(1,i+1):\n",
    "        print(j,end='')\n",
    "    print()"
   ]
  },
  {
   "cell_type": "markdown",
   "metadata": {},
   "source": [
    "# ALGORITHM\n",
    "\n",
    "step1:start  \n",
    "step2:get the number from user  \n",
    "step3:assign a temp variable s  \n",
    "step4:using for loop sum the 1st and 2nd value and store it in s  \n",
    "step5:reapeat step4  \n",
    "step6:display s  \n",
    "step7:stop "
   ]
  },
  {
   "cell_type": "code",
   "execution_count": null,
   "metadata": {},
   "outputs": [],
   "source": [
    "n = int(input(\"Enter the number till to be summed: \"))\n",
    "s=0\n",
    "for i in range(1,n+1):\n",
    "    s+=i\n",
    "print(s)"
   ]
  },
  {
   "cell_type": "markdown",
   "metadata": {},
   "source": [
    "# ALGORITHM\n",
    "\n",
    "step1:start  \n",
    "step2:get the number from user  \n",
    "step3:using for print the values till 10\n",
    "step4:display(n,\"X\",i,\"=\",n*i)     \n",
    "step5:stop"
   ]
  },
  {
   "cell_type": "code",
   "execution_count": null,
   "metadata": {},
   "outputs": [],
   "source": [
    "n = int(input(\"Enter the table \"))\n",
    "for i in range(1,11):\n",
    "    print(n,\"X\",i,\"=\",n*i)\n",
    "print()"
   ]
  },
  {
   "cell_type": "markdown",
   "metadata": {},
   "source": [
    "# ALGORITHM\n",
    "step1:start  \n",
    "step2:assign list  \n",
    "step3:get the number of values need to be in list from user  \n",
    "step4:while the given value is less than 150  \n",
    "step5:iterate the loop which is divisible by 5  \n",
    "step6:display the numbers"
   ]
  },
  {
   "cell_type": "code",
   "execution_count": null,
   "metadata": {},
   "outputs": [],
   "source": [
    "x=int(input(\"Enter number of values in list\"))\n",
    "lst=[]\n",
    "for i in range(x):\n",
    "    n=int(input(\"Enter the Values\"))\n",
    "    lst.append(n)\n",
    "i=0\n",
    "while lst[i]<150:\n",
    "    if(lst[i]%5==0):\n",
    "        print(lst[i])\n",
    "    i+=1"
   ]
  },
  {
   "cell_type": "markdown",
   "metadata": {},
   "source": [
    "# ALGORITHM\n",
    "\n",
    "step1:start  \n",
    "step2:get number from user  \n",
    "step3:convert integer to string  \n",
    "step4:then find the length of the string  \n",
    "step5:display length  \n",
    "step6:stop"
   ]
  },
  {
   "cell_type": "code",
   "execution_count": null,
   "metadata": {},
   "outputs": [],
   "source": [
    "n=int(input(\"Enter the number\"))\n",
    "string = str(n)\n",
    "length = len(string)\n",
    "print(length)"
   ]
  },
  {
   "cell_type": "markdown",
   "metadata": {},
   "source": [
    "# ALGORITHM\n",
    "\n",
    "step1:start  \n",
    "step2:declare empty list  \n",
    "step3:for in range from 4 to -1 append the list1 values from last to list2  \n",
    "step4:display list2  \n",
    "step5:stop"
   ]
  },
  {
   "cell_type": "code",
   "execution_count": null,
   "metadata": {},
   "outputs": [],
   "source": [
    "list1=[10,20,30,40,50]\n",
    "list2=[]\n",
    "for i in range(4,-1,-1):\n",
    "    list2.append(list1[i])\n",
    "print(list2)"
   ]
  },
  {
   "cell_type": "markdown",
   "metadata": {},
   "source": [
    "# ALGORITHM\n",
    "\n",
    "step1:start  \n",
    "step2:using for set range as(-50,-19,1)  \n",
    "step3:display i  \n",
    "step4:display done  \n",
    "step5:stop  "
   ]
  },
  {
   "cell_type": "code",
   "execution_count": null,
   "metadata": {},
   "outputs": [],
   "source": [
    "for i in range(-50,-19,1):\n",
    "    print(i)\n",
    "print(\"Done\")"
   ]
  },
  {
   "cell_type": "markdown",
   "metadata": {},
   "source": [
    "# ALGORITHM\n",
    "\n",
    "step1:start  \n",
    "step2:get the range from user  \n",
    "step3:using for declare the range got from user  \n",
    "step4:if i%j == 0 leave the loop and print the prime numbers  \n",
    "step5:else print i  \n",
    "step6:stop"
   ]
  },
  {
   "cell_type": "code",
   "execution_count": null,
   "metadata": {},
   "outputs": [],
   "source": [
    "n=int(input(\"Enter the numbers: \"))\n",
    "for i in range(2,n+1):\n",
    "    for j in range(2,i//2):\n",
    "        if i%j==0:\n",
    "            break\n",
    "        else:\n",
    "            print(i)"
   ]
  },
  {
   "cell_type": "markdown",
   "metadata": {},
   "source": [
    "# ALGORITHM\n",
    "\n",
    "step1:start  \n",
    "step2:declare x=0,y=1,res  \n",
    "step3:for i in range 0 to n+1  \n",
    "step4:res=x+y  \n",
    "step5:display res  \n",
    "step6:swap x=y,y=res  \n",
    "step7:stop"
   ]
  },
  {
   "cell_type": "code",
   "execution_count": null,
   "metadata": {},
   "outputs": [],
   "source": [
    "n=10\n",
    "x=0\n",
    "y=1\n",
    "for i in range(0,n+1):\n",
    "    res=x+y\n",
    "    print(res,end=' ')\n",
    "    x=y\n",
    "    y=res"
   ]
  },
  {
   "cell_type": "markdown",
   "metadata": {},
   "source": [
    "# RESULT\n",
    "All the above give programs are complied successfully"
   ]
  }
 ],
 "metadata": {
  "kernelspec": {
   "display_name": "Python 3",
   "language": "python",
   "name": "python3"
  },
  "language_info": {
   "codemirror_mode": {
    "name": "ipython",
    "version": 3
   },
   "file_extension": ".py",
   "mimetype": "text/x-python",
   "name": "python",
   "nbconvert_exporter": "python",
   "pygments_lexer": "ipython3",
   "version": "3.8.5"
  }
 },
 "nbformat": 4,
 "nbformat_minor": 4
}
