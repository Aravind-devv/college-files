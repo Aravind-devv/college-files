{
 "cells": [
  {
   "cell_type": "markdown",
   "metadata": {},
   "source": [
    "# 1. Programs for Familiarizing with the syntax and basic concepts"
   ]
  },
  {
   "cell_type": "markdown",
   "metadata": {
    "id": "DoCKs6nZe17U"
   },
   "source": [
    "# 20EUAI005 ARAVIND G\n",
    "DATE : "
   ]
  },
  {
   "cell_type": "markdown",
   "metadata": {
    "id": "G9cfQ_6kM5jj"
   },
   "source": [
    "# Aim\n",
    "To complete all the give problems successfully  \n"
   ]
  },
  {
   "cell_type": "markdown",
   "metadata": {
    "id": "M9KE5euQfx0Y"
   },
   "source": [
    "# ALGORITHM \n",
    "\n",
    "Step1:Start  \n",
    "step2:Read a,b  \n",
    "Step3:Call Sum(a,b) and return a+b  \n",
    "Step4:Call Diff(a,b) and return a-b , a-b  \n",
    "Step5:If Diff>1000 then return diff else sum(n,m)   \n",
    "Step6:stop"
   ]
  },
  {
   "cell_type": "code",
   "execution_count": null,
   "metadata": {
    "colab": {
     "base_uri": "https://localhost:8080/"
    },
    "id": "s1PoI1ZslXKc",
    "outputId": "5f39b4dc-653b-48db-cf45-552e8630ce13"
   },
   "outputs": [
    {
     "name": "stdout",
     "output_type": "stream",
     "text": [
      "Enter first value: 200\n",
      "Enter second value: 20\n"
     ]
    }
   ],
   "source": [
    "def sum(n,m):\n",
    "    return n+m\n",
    "def diff(n,m):\n",
    "    return n+m,n-m\n",
    "n=int(input(\"Enter first value: \"))\n",
    "m=int(input(\"Enter second value: \"))\n",
    "if(n-m>1000):\n",
    "    print(diff(n,m))\n",
    "else:\n",
    "    print(sum(n,m))\n"
   ]
  },
  {
   "cell_type": "markdown",
   "metadata": {
    "id": "pC-Q6Y4OmQ3u"
   },
   "source": [
    "# ALGORITHM\n",
    "\n",
    "Step1:Start  \n",
    "Step2:Define lst  \n",
    "Step3:Use for loop in range(5)  \n",
    "step4:Get value from user and append to the lst  \n",
    "step5:if index[0]==index[-1] then print true else print false  \n",
    "step6:stop"
   ]
  },
  {
   "cell_type": "code",
   "execution_count": null,
   "metadata": {
    "colab": {
     "base_uri": "https://localhost:8080/"
    },
    "id": "PwIG9OzanqcQ",
    "outputId": "a4a64fd6-6691-4106-9112-26db98136858"
   },
   "outputs": [
    {
     "name": "stdout",
     "output_type": "stream",
     "text": [
      "Enter values to be added in list6\n",
      "Enter values to be added in list4\n",
      "Enter values to be added in list8\n",
      "Enter values to be added in list6\n",
      "Enter values to be added in list6\n",
      "True\n"
     ]
    }
   ],
   "source": [
    "lst=[]\n",
    "for i in range(5):\n",
    "    n=int(input(\"Enter values to be added in list\"))\n",
    "    lst.append(n)\n",
    "if(lst[0]==lst[-1]):\n",
    "    print(True)\n",
    "else:\n",
    "    print(False)"
   ]
  },
  {
   "cell_type": "markdown",
   "metadata": {
    "id": "QquG-SQ8qLIA"
   },
   "source": [
    "# ALGORITHM\n",
    "\n",
    "step1:Start  \n",
    "step2:define lst  \n",
    "step3:using for loop get values from user and append to lst  \n",
    "step4:using for loop check if the values is divisible by 5 then print lst value\n",
    "step4:else skip the else statement  \n",
    "step5:stop"
   ]
  },
  {
   "cell_type": "code",
   "execution_count": null,
   "metadata": {
    "id": "E_unKlgJqN8J"
   },
   "outputs": [],
   "source": [
    "lst=[]\n",
    "for i in range(5):\n",
    "    n=int(input(\"Enter the Values\"))\n",
    "    lst.append(n)\n",
    "for i in range(5):\n",
    "    if(lst[i]%5==0):\n",
    "        print(lst[i])\n",
    "    else:\n",
    "        pass"
   ]
  },
  {
   "cell_type": "markdown",
   "metadata": {
    "id": "dWHwDPJ9sXeQ"
   },
   "source": [
    "# ALGORITHM \n",
    "\n",
    "Step1:Start  \n",
    "step2:Read string and store in res  \n",
    "step3:display \"my**name**is**james\"   \n",
    "step4:stop"
   ]
  },
  {
   "cell_type": "code",
   "execution_count": null,
   "metadata": {
    "colab": {
     "base_uri": "https://localhost:8080/"
    },
    "id": "Rj-qwa1ssd0p",
    "outputId": "99fb535b-49cb-4865-dcdc-adf2a099599c"
   },
   "outputs": [
    {
     "name": "stdout",
     "output_type": "stream",
     "text": [
      "Enter the name sharves\n",
      "\"My**name**is**sharves\"\n"
     ]
    }
   ],
   "source": [
    "res = str(input(\"Enter the name \"))\n",
    "print('\"My**name**is**{}\"'.format(res))"
   ]
  },
  {
   "cell_type": "markdown",
   "metadata": {
    "id": "VIheRK0RvTrL"
   },
   "source": [
    "# ALGORITHM\n",
    "\n",
    "step1:start  \n",
    "step2:get the decimal number from user  \n",
    "step3:convert deciamal to octal using oct() function\n",
    "step4:print octal value         \n",
    "step5:stop"
   ]
  },
  {
   "cell_type": "code",
   "execution_count": null,
   "metadata": {
    "id": "Ezx5V2C_vWL1"
   },
   "outputs": [],
   "source": [
    "n=int(input(\"Enter the decimal number: \"))\n",
    "print(\"Octal value is {}\".format(oct(n)))"
   ]
  },
  {
   "cell_type": "markdown",
   "metadata": {
    "id": "cgo6vzDowCDW"
   },
   "source": [
    "# ALGORITHM\n",
    "\n",
    "step1:start\n",
    "step2:get value from user in float format\n",
    "step3:using format function coonvert the given value to 2dp\n",
    "step4:stop"
   ]
  },
  {
   "cell_type": "code",
   "execution_count": null,
   "metadata": {
    "id": "wnMrzlbhyWsA"
   },
   "outputs": [],
   "source": [
    "n=float(input(\"Enter the number: \"))\n",
    "print(\"2dp is {:.2f}\".format(n))"
   ]
  },
  {
   "cell_type": "markdown",
   "metadata": {
    "id": "u2YudnmXzNfN"
   },
   "source": [
    "# ALGORITHM\n",
    "\n",
    "step1:start  \n",
    "step2:declare list to store the values  \n",
    "step3:using for loop get the float values and append to list  \n",
    "step4:"
   ]
  },
  {
   "cell_type": "code",
   "execution_count": null,
   "metadata": {
    "id": "1i7FJo58zb_C"
   },
   "outputs": [],
   "source": [
    "values=[]\n",
    "for i in range(5):\n",
    "    n=float(input(\"Enter the decimal values:\"))\n",
    "    values.append(values)\n"
   ]
  },
  {
   "cell_type": "markdown",
   "metadata": {
    "id": "BkC85Hyj11ih"
   },
   "source": [
    "# ALGORITHM\n",
    "\n",
    "step1:start  \n",
    "step2:declare i=0  \n",
    "step3:while with condition i<10  \n",
    "step4:display index  \n",
    "step5:increment by +1  \n",
    "step6:stop"
   ]
  },
  {
   "cell_type": "code",
   "execution_count": null,
   "metadata": {
    "colab": {
     "base_uri": "https://localhost:8080/"
    },
    "id": "Pv02TOmj11zH",
    "outputId": "8ecb1269-c8ee-4cd1-e7ec-cba345520135"
   },
   "outputs": [
    {
     "name": "stdout",
     "output_type": "stream",
     "text": [
      "0\n",
      "1\n",
      "2\n",
      "3\n",
      "4\n",
      "5\n",
      "6\n",
      "7\n",
      "8\n",
      "9\n"
     ]
    }
   ],
   "source": [
    "i=0\n",
    "while i<10:\n",
    "  print(i)\n",
    "  i+=1"
   ]
  },
  {
   "cell_type": "markdown",
   "metadata": {
    "id": "-KhWFTUN20-A"
   },
   "source": [
    "# ALGORITHM\n",
    "\n",
    "step1:start  \n",
    "step2:using for i in range print the rows till 5  \n",
    "step3:using nested for j in range print the coloumns  \n",
    "step4:increment the i in j loop\n",
    "step5:print j with end=''\n",
    "step6:print()\n",
    "step7:stop"
   ]
  },
  {
   "cell_type": "code",
   "execution_count": null,
   "metadata": {
    "id": "X8T6LQNj21Ks"
   },
   "outputs": [],
   "source": [
    "for i in range(1,6):\n",
    "    for j in range(1,i+1):\n",
    "        print(j,end='')\n",
    "    print()"
   ]
  },
  {
   "cell_type": "markdown",
   "metadata": {
    "id": "Zzs2_z2Z6KHn"
   },
   "source": [
    "# ALGORITHM\n",
    "\n",
    "step1:start  \n",
    "step2:get the number from user  \n",
    "step3:assign a temp variable s  \n",
    "step4:using for loop sum the 1st and 2nd value and store it in s  \n",
    "step5:reapeat step4  \n",
    "step6:display s  \n",
    "step7:stop "
   ]
  },
  {
   "cell_type": "code",
   "execution_count": null,
   "metadata": {
    "id": "7ckjmc5T6Mn2"
   },
   "outputs": [],
   "source": [
    "n = int(input(\"Enter the number till to be summed: \"))\n",
    "s=0\n",
    "for i in range(1,n+1):\n",
    "    s+=i\n",
    "print(s)\n"
   ]
  },
  {
   "cell_type": "markdown",
   "metadata": {
    "id": "v21ZFrWzE393"
   },
   "source": [
    "# ALGORITHM\n",
    "\n",
    "step1:start  \n",
    "step2:get the number from user  \n",
    "step3:using for print the values till 10\n",
    "step4:display(n,\"X\",i,\"=\",n*i)     \n",
    "step5:stop"
   ]
  },
  {
   "cell_type": "code",
   "execution_count": null,
   "metadata": {
    "id": "DW2_6bcJE4Pq"
   },
   "outputs": [],
   "source": [
    "n = int(input(\"Enter the table \"))\n",
    "for i in range(1,11):\n",
    "    print(n,\"X\",i,\"=\",n*i)\n",
    "print()\n"
   ]
  },
  {
   "cell_type": "markdown",
   "metadata": {
    "id": "ZOT8QUcxHDH4"
   },
   "source": [
    "# ALGORITHM\n",
    "step1:start  \n",
    "step2:assign list  \n",
    "step3:get the number of values need to be in list from user  \n",
    "step4:while the given value is less than 150  \n",
    "step5:iterate the loop which is divisible by 5  \n",
    "step6:display the  \n",
    "\n"
   ]
  },
  {
   "cell_type": "code",
   "execution_count": null,
   "metadata": {
    "id": "_sOsIEP7HDPe"
   },
   "outputs": [],
   "source": [
    "x=int(input(\"Enter number of values in list\"))\n",
    "lst=[]\n",
    "for i in range(x):\n",
    "    n=int(input(\"Enter the Values\"))\n",
    "    lst.append(n)\n",
    "i=0\n",
    "while lst[i]<150:\n",
    "    if(lst[i]%5==0):\n",
    "        print(lst[i])\n",
    "    i+=1"
   ]
  },
  {
   "cell_type": "markdown",
   "metadata": {
    "id": "4ImU0anzZrE0"
   },
   "source": [
    "# ALGORITHM\n",
    "\n",
    "step1:start  \n",
    "step2:get number from user  \n",
    "step3:convert integer to string  \n",
    "step4:then find the length of the string  \n",
    "step5:display length  \n",
    "step6:stop"
   ]
  },
  {
   "cell_type": "code",
   "execution_count": null,
   "metadata": {
    "id": "DZZ_q5CBZrSM"
   },
   "outputs": [],
   "source": [
    "n=int(input(\"Enter the number\"))\n",
    "string = str(n)\n",
    "length = len(string)\n",
    "print(length)"
   ]
  },
  {
   "cell_type": "markdown",
   "metadata": {
    "id": "gMdcRe1Kcii_"
   },
   "source": [
    "# ALGORITHM\n",
    "\n",
    "step1:start  \n",
    "step2:declare empty list  \n",
    "step3:for in range from 4 to -1 append the list1 values from last to list2  \n",
    "step4:display list2  \n",
    "step5:stop"
   ]
  },
  {
   "cell_type": "code",
   "execution_count": null,
   "metadata": {
    "id": "Bm2oBZ0NcizZ"
   },
   "outputs": [],
   "source": [
    "list1=[10,20,30,40,50]\n",
    "list2=[]\n",
    "for i in range(4,-1,-1):\n",
    "    list2.append(list1[i])\n",
    "print(list2)\n"
   ]
  },
  {
   "cell_type": "markdown",
   "metadata": {
    "id": "Sokvo5KLfaDx"
   },
   "source": [
    "# ALGORITHM\n",
    "\n",
    "step1:start  \n",
    "step2:using for set range as(-50,-19,1)  \n",
    "step3:display i  \n",
    "step4:display done  \n",
    "step5:stop  "
   ]
  },
  {
   "cell_type": "code",
   "execution_count": null,
   "metadata": {
    "id": "X0qBNivrfaOL"
   },
   "outputs": [],
   "source": [
    "for i in range(-50,-19,1):\n",
    "    print(i)\n",
    "print(\"Done\")"
   ]
  },
  {
   "cell_type": "markdown",
   "metadata": {
    "id": "UXHf2kgkg2MD"
   },
   "source": [
    "# ALGORITHM\n",
    "\n",
    "step1:start  \n",
    "step2:get the range from user  \n",
    "step3:using for declare the range got from user  \n",
    "step4:if i%j == 0 leave the loop and print the prime numbers  \n",
    "step5:else print i  \n",
    "step6:stop"
   ]
  },
  {
   "cell_type": "code",
   "execution_count": null,
   "metadata": {
    "id": "Ld07ykrzg20w"
   },
   "outputs": [],
   "source": [
    "n=int(input(\"Enter the numbers: \"))\n",
    "for i in range(2,n+1):\n",
    "    for j in range(2,i//2):\n",
    "        if i%j==0:\n",
    "            break\n",
    "        else:\n",
    "            print(i)"
   ]
  },
  {
   "cell_type": "markdown",
   "metadata": {
    "id": "tl3cItHamsTa"
   },
   "source": [
    "# ALGORITHM\n",
    "\n",
    "step1:start  \n",
    "step2:declare x=0,y=1,res  \n",
    "step3:for i in range 0 to n+1  \n",
    "step4:res=x+y  \n",
    "step5:display res  \n",
    "step6:swap x=y,y=res  \n",
    "step7:stop\n"
   ]
  },
  {
   "cell_type": "code",
   "execution_count": null,
   "metadata": {
    "id": "QGpJQqcJmsre"
   },
   "outputs": [],
   "source": [
    "n=10\n",
    "x=0\n",
    "y=1\n",
    "for i in range(0,n+1):\n",
    "    res=x+y\n",
    "    print(res,end=' ')\n",
    "    x=y\n",
    "    y=res"
   ]
  },
  {
   "cell_type": "markdown",
   "metadata": {
    "id": "CeI7c3s7NH7D"
   },
   "source": [
    "# RESULT\n",
    "All the above give programs are complied successfully"
   ]
  }
 ],
 "metadata": {
  "colab": {
   "collapsed_sections": [],
   "name": "Copy of 20ai049 Ex:No1.ipynb",
   "provenance": []
  },
  "kernelspec": {
   "display_name": "Python 3",
   "language": "python",
   "name": "python3"
  },
  "language_info": {
   "codemirror_mode": {
    "name": "ipython",
    "version": 3
   },
   "file_extension": ".py",
   "mimetype": "text/x-python",
   "name": "python",
   "nbconvert_exporter": "python",
   "pygments_lexer": "ipython3",
   "version": "3.8.5"
  }
 },
 "nbformat": 4,
 "nbformat_minor": 1
}
