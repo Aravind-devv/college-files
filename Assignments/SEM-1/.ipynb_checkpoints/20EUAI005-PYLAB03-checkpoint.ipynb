{
 "cells": [
  {
   "cell_type": "markdown",
   "metadata": {
    "id": "faJ2Q3WWfjZf"
   },
   "source": [
    "# ARAVIND G - 20AI005"
   ]
  },
  {
   "cell_type": "markdown",
   "metadata": {},
   "source": [
    "# AIM\n",
    "TO COMPLETE ALL THE GIVEN PROBLEMS"
   ]
  },
  {
   "cell_type": "markdown",
   "metadata": {
    "id": "F3TgrDE_SznP"
   },
   "source": [
    "# 3.1 To count the number of even and odd numbers from a series of numbers. \n",
    "\n",
    "ALGORITHM\n",
    "\n",
    "\n",
    "1.   START\n",
    "2.   Iterate through the numbers\n",
    "3.   When the number divided by 2 gives remainder count it as even\n",
    "4.   Else count as odd\n",
    "5.   Display count of even and odd numbers\n",
    "6.   Stop\n",
    "\n"
   ]
  },
  {
   "cell_type": "code",
   "execution_count": null,
   "metadata": {
    "colab": {
     "base_uri": "https://localhost:8080/"
    },
    "id": "cl7JqSFlTl5f",
    "outputId": "2b28d07f-2bac-41c1-ced0-7cb844622fd2"
   },
   "outputs": [
    {
     "name": "stdout",
     "output_type": "stream",
     "text": [
      "1 2 3 4 10 30 40\n",
      "['1', '2', '3', '4', '10', '30', '40']\n",
      "The count of even numbers are :  5\n",
      "The count of odd numbers are :  2\n"
     ]
    }
   ],
   "source": [
    "data = input().split()\n",
    "print(data)\n",
    "even = 0\n",
    "odd = 0\n",
    "for num in data:\n",
    "  if int(num)%2 == 0:\n",
    "    even += 1\n",
    "  else:\n",
    "    odd += 1\n",
    "\n",
    "print(\"The count of even numbers are : \",even)\n",
    "print(\"The count of odd numbers are : \",odd)\n"
   ]
  },
  {
   "cell_type": "markdown",
   "metadata": {
    "id": "XHp1OIR9U0eM"
   },
   "source": [
    "# 3.2 Python program that prints each item and its corresponding type from the following list.\n",
    "Ex:\n",
    "data1 = [1452, 11.23, 1+2j, True, 'tutorial', (0, -1), [5, 12], {\"class\":'V', \"section\":'A'}]"
   ]
  },
  {
   "cell_type": "markdown",
   "metadata": {
    "id": "kt311eLRWUd1"
   },
   "source": [
    "ALGORITHM\n",
    "\n",
    "1.   START\n",
    "2.   Iterate through the list\n",
    "3.   print the Item and the type of that using type() function\n",
    "4.   STOP\n",
    "\n"
   ]
  },
  {
   "cell_type": "code",
   "execution_count": null,
   "metadata": {
    "colab": {
     "base_uri": "https://localhost:8080/"
    },
    "id": "cQKnQl25U3cj",
    "outputId": "b9c547f7-b535-44b6-d61e-42c25a7a7d1c"
   },
   "outputs": [
    {
     "name": "stdout",
     "output_type": "stream",
     "text": [
      "Data : 1452 Data Type : <class 'int'>\n",
      "Data : 11.23 Data Type : <class 'float'>\n",
      "Data : (1+2j) Data Type : <class 'complex'>\n",
      "Data : True Data Type : <class 'bool'>\n",
      "Data : tutorial Data Type : <class 'str'>\n",
      "Data : (0, -1) Data Type : <class 'tuple'>\n",
      "Data : [5, 12] Data Type : <class 'list'>\n",
      "Data : {'class': 'V', 'section': 'A'} Data Type : <class 'dict'>\n"
     ]
    }
   ],
   "source": [
    "data =  [1452, 11.23, 1+2j, True, 'tutorial', (0, -1), [5, 12], {\"class\":'V', \"section\":'A'}]\n",
    "for typ in data:\n",
    "  print(\"Data : {} Data Type : {}\".format(typ, type(typ)))"
   ]
  },
  {
   "cell_type": "markdown",
   "metadata": {
    "id": "jgfwTKpbVmlC"
   },
   "source": [
    "# 3.3 Program that prints all the numbers from 0 to 6 except 3 and 6.\n",
    "Note : Use 'continue' statement."
   ]
  },
  {
   "cell_type": "markdown",
   "metadata": {
    "id": "vKjO-Ci2Wm0I"
   },
   "source": [
    "ALGORITHM\n",
    "\n",
    "\n",
    "1.   START\n",
    "2.   Create a for loop ranging from 0 to 7 as num\n",
    "3.   check if num is equal to 3 or 6\n",
    "4.   If true CONTINUE\n",
    "5.   If false print the num\n",
    "6.   STOP\n",
    "\n"
   ]
  },
  {
   "cell_type": "code",
   "execution_count": null,
   "metadata": {
    "colab": {
     "base_uri": "https://localhost:8080/"
    },
    "id": "SfJ-D21oVt2A",
    "outputId": "f2677cd3-14f4-4990-be3b-4efbf14b8ddf"
   },
   "outputs": [
    {
     "name": "stdout",
     "output_type": "stream",
     "text": [
      "0\n",
      "1\n",
      "2\n",
      "4\n",
      "5\n"
     ]
    }
   ],
   "source": [
    "for num in range(0,7):\n",
    "  if num == 3 or num == 6:\n",
    "    continue\n",
    "  else:\n",
    "    print(i)"
   ]
  },
  {
   "cell_type": "markdown",
   "metadata": {
    "id": "5QEUva7bXDsX"
   },
   "source": [
    "# 3.4 Print the first 50 Fibonacci series.\n",
    "\n",
    "ALGORITHM\n",
    "\n",
    "\n",
    "1.   START\n",
    "2.   declare n1=0, n2=1, count=0 and end=50\n",
    "3.   create a while loop with condition count<end\n",
    "4.   print the fibonacci series\n",
    "5.   STOP\n",
    "\n"
   ]
  },
  {
   "cell_type": "code",
   "execution_count": null,
   "metadata": {
    "colab": {
     "base_uri": "https://localhost:8080/"
    },
    "id": "zmY7_X9dXQOb",
    "outputId": "e2f45552-99ae-425c-9858-fded363ab515"
   },
   "outputs": [
    {
     "name": "stdout",
     "output_type": "stream",
     "text": [
      "0\n",
      "1\n",
      "1\n",
      "2\n",
      "3\n",
      "5\n",
      "8\n",
      "13\n",
      "21\n",
      "34\n",
      "55\n",
      "89\n",
      "144\n",
      "233\n",
      "377\n",
      "610\n",
      "987\n",
      "1597\n",
      "2584\n",
      "4181\n",
      "6765\n",
      "10946\n",
      "17711\n",
      "28657\n",
      "46368\n",
      "75025\n",
      "121393\n",
      "196418\n",
      "317811\n",
      "514229\n",
      "832040\n",
      "1346269\n",
      "2178309\n",
      "3524578\n",
      "5702887\n",
      "9227465\n",
      "14930352\n",
      "24157817\n",
      "39088169\n",
      "63245986\n",
      "102334155\n",
      "165580141\n",
      "267914296\n",
      "433494437\n",
      "701408733\n",
      "1134903170\n",
      "1836311903\n",
      "2971215073\n",
      "4807526976\n",
      "7778742049\n"
     ]
    }
   ],
   "source": [
    "n1 = 0\n",
    "n2 = 1\n",
    "count = 0\n",
    "end = 50\n",
    "\n",
    "\n",
    "while count < end:\n",
    "       print(n1)\n",
    "       nth = n1 + n2\n",
    "       # update values\n",
    "       n1 = n2\n",
    "       n2 = nth\n",
    "       count += 1"
   ]
  },
  {
   "cell_type": "markdown",
   "metadata": {},
   "source": [
    "# RESULT\n",
    "ALL THE GIVEN PROBLEMS HAS BEEN COMPLETED"
   ]
  }
 ],
 "metadata": {
  "colab": {
   "collapsed_sections": [],
   "name": "20EUAI005-PYLAB03.ipynb",
   "provenance": []
  },
  "kernelspec": {
   "display_name": "Python 3",
   "language": "python",
   "name": "python3"
  },
  "language_info": {
   "codemirror_mode": {
    "name": "ipython",
    "version": 3
   },
   "file_extension": ".py",
   "mimetype": "text/x-python",
   "name": "python",
   "nbconvert_exporter": "python",
   "pygments_lexer": "ipython3",
   "version": "3.8.5"
  }
 },
 "nbformat": 4,
 "nbformat_minor": 1
}
