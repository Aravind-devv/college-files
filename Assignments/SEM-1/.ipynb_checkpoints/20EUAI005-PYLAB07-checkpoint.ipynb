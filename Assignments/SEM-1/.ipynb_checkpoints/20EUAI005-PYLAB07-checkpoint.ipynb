{
 "cells": [
  {
   "cell_type": "markdown",
   "metadata": {},
   "source": [
    "# 7. File operations"
   ]
  },
  {
   "cell_type": "markdown",
   "metadata": {},
   "source": [
    "# 20EUAI005 ARAVIND G\n",
    "DATE :"
   ]
  },
  {
   "cell_type": "markdown",
   "metadata": {},
   "source": [
    "# AIM\n",
    "TO COMPLETE THE GIVEN PROBLEMS"
   ]
  },
  {
   "cell_type": "markdown",
   "metadata": {},
   "source": [
    "# 7.1. create a txt file called demo.txt which contains the following data:\n",
    "150.00 50.00\n",
    "270.00 20.00"
   ]
  },
  {
   "cell_type": "markdown",
   "metadata": {},
   "source": [
    "# ALGORITHM\n",
    "\n",
    "step1 : START\n",
    "step2 : write a file demo and store it with th extension .txt\n",
    "step3 : STOP"
   ]
  },
  {
   "cell_type": "code",
   "execution_count": 5,
   "metadata": {},
   "outputs": [
    {
     "name": "stdout",
     "output_type": "stream",
     "text": [
      "Writing demo.text\n"
     ]
    }
   ],
   "source": [
    "%%writefile demo.text\n",
    "150.00  50.00\n",
    "270.00  20.00"
   ]
  },
  {
   "cell_type": "markdown",
   "metadata": {},
   "source": [
    "# 7.2. copy the contents of the above file to demo1.txt"
   ]
  },
  {
   "cell_type": "markdown",
   "metadata": {},
   "source": [
    "# ALGORITHM\n",
    "\n",
    "step1 : START\n",
    "step2 : open the file demo as de in read mode\n",
    "step3 : create another file demo1 as de1 in write mode\n",
    "step4 : read the content of demo and store it in r and write them in demo1 using foe loop\n",
    "step5 : STOP"
   ]
  },
  {
   "cell_type": "code",
   "execution_count": 6,
   "metadata": {},
   "outputs": [],
   "source": [
    "de=open(\"demo.text\",\"r\")\n",
    "de1=open(\"demo1.text\",\"w\")\n",
    "r=de.read()\n",
    "for i in r:\n",
    "  de1.write(i)"
   ]
  },
  {
   "cell_type": "markdown",
   "metadata": {},
   "source": [
    "# 7.3. Update the below contents in demo1.txt\n",
    "450.00 25.00\n",
    "280.00 20.00"
   ]
  },
  {
   "cell_type": "markdown",
   "metadata": {},
   "source": [
    "# ALGORITHM\n",
    "\n",
    "step1 : START\n",
    "step2 : open the file demo1 in write mode\n",
    "step3 : update the content of the file using write()\n",
    "step4 : STOP"
   ]
  },
  {
   "cell_type": "code",
   "execution_count": 8,
   "metadata": {},
   "outputs": [
    {
     "data": {
      "text/plain": [
       "29"
      ]
     },
     "execution_count": 8,
     "metadata": {},
     "output_type": "execute_result"
    }
   ],
   "source": [
    "de1=open(\"demo1.text\",\"w\")\n",
    "de1.write(\"450.00  25.00 \\n280.00  20.00 \")"
   ]
  },
  {
   "cell_type": "markdown",
   "metadata": {},
   "source": [
    "# 7.4. Count the number of words and the number of lines in both the files"
   ]
  },
  {
   "cell_type": "markdown",
   "metadata": {},
   "source": [
    "# ALGORITHM\n",
    "\n",
    "step1 : START\n",
    "step2 : open the files demo and demo1 as de and de1 and read their content and store it in n,n1\n",
    "step3 : using split() and for loop read the no of words in the both the file and store it in b,b1  \n",
    "step4 : using split('/n') and for loop read the no of lines in the both the file and store it in c,c1\n",
    "step5 : display b,b1,c,c1\n",
    "step6 : STOP"
   ]
  },
  {
   "cell_type": "code",
   "execution_count": 9,
   "metadata": {},
   "outputs": [
    {
     "name": "stdout",
     "output_type": "stream",
     "text": [
      "2\n",
      "2\n",
      "4\n",
      "4\n"
     ]
    }
   ],
   "source": [
    "de=open(\"demo.text\",\"r\")\n",
    "de1=open(\"demo1.text\",\"r\")\n",
    "c,c1,b,b1=1,1,0,0\n",
    "n=de.read()\n",
    "n1=de1.read()\n",
    "l,l1=n.split('/n'),n1.split('/n')\n",
    "for i in l:\n",
    "  c+=1\n",
    "print(c)\n",
    "for i in l1:\n",
    "  c1+=1\n",
    "print(c1)\n",
    "w,w1=n.split(),n1.split()\n",
    "for i in w:\n",
    "  b+=1\n",
    "print(b)\n",
    "for i in w1:\n",
    "  b1+=1\n",
    "print(b1)"
   ]
  },
  {
   "cell_type": "markdown",
   "metadata": {},
   "source": [
    "# 7.5. Merge both the files as demo2.txt"
   ]
  },
  {
   "cell_type": "markdown",
   "metadata": {},
   "source": [
    "# ALGORITHM\n",
    "\n",
    "step1 : start\n",
    "step2 : open the files demo and demo1 as de and de1 and read their content and store it in n,n1\n",
    "step3 : open another file demo2.txt as de2\n",
    "step4 : set data is equal to n1 + n2\n",
    "step5 : write the content of data in demo2 using write()\n",
    "step6 : STOP"
   ]
  },
  {
   "cell_type": "code",
   "execution_count": 10,
   "metadata": {},
   "outputs": [
    {
     "data": {
      "text/plain": [
       "57"
      ]
     },
     "execution_count": 10,
     "metadata": {},
     "output_type": "execute_result"
    }
   ],
   "source": [
    "de=open(\"demo.text\",\"r\")\n",
    "de1=open(\"demo1.text\",\"r\")\n",
    "n=de.read()\n",
    "n1=de1.read()\n",
    "de2=open(\"demo2.text\",\"w\")\n",
    "data=n+n1\n",
    "de2.write(data)"
   ]
  },
  {
   "cell_type": "markdown",
   "metadata": {},
   "source": [
    "# RESULT\n",
    "THE GIVEN PROBLEMS HAS BEEN COMPLETED "
   ]
  }
 ],
 "metadata": {
  "kernelspec": {
   "display_name": "Python 3",
   "language": "python",
   "name": "python3"
  },
  "language_info": {
   "codemirror_mode": {
    "name": "ipython",
    "version": 3
   },
   "file_extension": ".py",
   "mimetype": "text/x-python",
   "name": "python",
   "nbconvert_exporter": "python",
   "pygments_lexer": "ipython3",
   "version": "3.8.5"
  }
 },
 "nbformat": 4,
 "nbformat_minor": 4
}
