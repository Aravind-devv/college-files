{
 "cells": [
  {
   "cell_type": "markdown",
   "metadata": {
    "id": "kNzzeOX6enOX"
   },
   "source": [
    "# ARAVIND G - 20AI005"
   ]
  },
  {
   "cell_type": "markdown",
   "metadata": {},
   "source": [
    "# AIM\n",
    "TO COMPLETE ALL THE GIVEN PROBLEMS"
   ]
  },
  {
   "cell_type": "markdown",
   "metadata": {
    "id": "JD-lZWVgYoHD"
   },
   "source": [
    "20AI005\n",
    "# 4.1 Factorial of a given number\n",
    "\n",
    "ALGORITHM\n",
    "1. START\n",
    "2. Define a function named recur with a parameter n\n",
    "3. check if n is equal to 1\n",
    "4. If true return n\n",
    "5. If false return n*recur(n-1)\n",
    "6. Display the factorial\n",
    "7. STOP"
   ]
  },
  {
   "cell_type": "code",
   "execution_count": null,
   "metadata": {
    "colab": {
     "base_uri": "https://localhost:8080/"
    },
    "id": "vjU3fo_bZLhM",
    "outputId": "bbcb5b9b-5005-4c26-b25f-cac185a0f9b9"
   },
   "outputs": [
    {
     "name": "stdout",
     "output_type": "stream",
     "text": [
      "The factorial of 4 is 24\n"
     ]
    }
   ],
   "source": [
    "def recur(n):\n",
    "  if n==1:\n",
    "    return n\n",
    "  else:\n",
    "    return n*recur(n-1)\n",
    "\n",
    "n=4\n",
    "print(\"The factorial of {} is {}\".format(n,recur(n)))"
   ]
  },
  {
   "cell_type": "markdown",
   "metadata": {
    "id": "90-eGr1waU0g"
   },
   "source": [
    "20AI005\n",
    "# 4.2 Sum of n numbers\n",
    "\n",
    "ALGORITHM\n",
    "1. START\n",
    "2. Define a function sm with parameter n\n",
    "3. check if n is equal to 1\n",
    "4. If true return n\n",
    "5. If false return n+sm(n-1)\n",
    "6. Display the sum of numbers\n",
    "7. STOP"
   ]
  },
  {
   "cell_type": "code",
   "execution_count": null,
   "metadata": {
    "colab": {
     "base_uri": "https://localhost:8080/"
    },
    "id": "gVGKDu0WabCs",
    "outputId": "f760f1d2-2b35-473c-ed56-f97eddc9eafd"
   },
   "outputs": [
    {
     "name": "stdout",
     "output_type": "stream",
     "text": [
      "The sum of first 5 numbers is 15\n"
     ]
    }
   ],
   "source": [
    "def sm(n):\n",
    "  if n == 1:\n",
    "    return n\n",
    "  else:\n",
    "    return n+sm(n-1)\n",
    "\n",
    "n = 5\n",
    "print(\"The sum of first {} numbers is {}\".format(n,sm(n)))"
   ]
  },
  {
   "cell_type": "markdown",
   "metadata": {
    "id": "6NXJyQ3Gbcfq"
   },
   "source": [
    "20AI005\n",
    "# 4.3 Fibonacci series\n",
    "\n",
    "ALGORITHM\n",
    "1. START\n",
    "2. Define a function named recur with a parameter n\n",
    "3. Check if n is equal to 1 \n",
    "4. If true return n, if false return the sum of present integer and previous integer\n",
    "5. In main function declare the end term\n",
    "6. create a loop for range end\n",
    "6. print the fibonacci series\n",
    "7. STOP"
   ]
  },
  {
   "cell_type": "code",
   "execution_count": null,
   "metadata": {
    "colab": {
     "base_uri": "https://localhost:8080/"
    },
    "id": "uX5-J7fabu88",
    "outputId": "5e5fde5b-fbb0-430d-8dc5-305c9f15f6d7"
   },
   "outputs": [
    {
     "name": "stdout",
     "output_type": "stream",
     "text": [
      "Fibonacci sequence:\n",
      "0\n",
      "1\n",
      "1\n",
      "2\n",
      "3\n",
      "5\n",
      "8\n",
      "13\n",
      "21\n",
      "34\n"
     ]
    }
   ],
   "source": [
    "def recur(n):\n",
    "   if n <= 1:\n",
    "       return n\n",
    "   else:\n",
    "       return(recur(n-1) + recur(n-2))\n",
    "\n",
    "end = 10\n",
    "print(\"Fibonacci sequence:\")\n",
    "for i in range(end):\n",
    "    print(recur(i))"
   ]
  },
  {
   "cell_type": "markdown",
   "metadata": {},
   "source": [
    "# RESULT\n",
    "ALL THE GIVEN PROBLEMS HAS BEEN COMPLETED"
   ]
  }
 ],
 "metadata": {
  "colab": {
   "collapsed_sections": [],
   "name": "20EUAI005-PYLAB04.ipynb",
   "provenance": []
  },
  "kernelspec": {
   "display_name": "Python 3",
   "language": "python",
   "name": "python3"
  },
  "language_info": {
   "codemirror_mode": {
    "name": "ipython",
    "version": 3
   },
   "file_extension": ".py",
   "mimetype": "text/x-python",
   "name": "python",
   "nbconvert_exporter": "python",
   "pygments_lexer": "ipython3",
   "version": "3.8.5"
  }
 },
 "nbformat": 4,
 "nbformat_minor": 1
}
