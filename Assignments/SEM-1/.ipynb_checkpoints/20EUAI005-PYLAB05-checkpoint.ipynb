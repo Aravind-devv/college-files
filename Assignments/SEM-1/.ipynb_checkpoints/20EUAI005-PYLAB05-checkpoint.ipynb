{
 "cells": [
  {
   "cell_type": "markdown",
   "metadata": {},
   "source": [
    "# 5. List Programs"
   ]
  },
  {
   "cell_type": "markdown",
   "metadata": {},
   "source": [
    "# 20EUAI005 ARAVIND G\n",
    "DATE : "
   ]
  },
  {
   "cell_type": "markdown",
   "metadata": {},
   "source": [
    "# AIM\n",
    "TO COMPLETE ALL THE PROBLEMS"
   ]
  },
  {
   "cell_type": "markdown",
   "metadata": {},
   "source": [
    "# 5.1. Program for matrix input from user "
   ]
  },
  {
   "cell_type": "markdown",
   "metadata": {},
   "source": [
    "# ALGORITHM\n",
    "\n",
    "1.   START\n",
    "2.   GET rows and columns as input\n",
    "3.   DECLARE an empty list\n",
    "4.   Create two nested for loop with rows and columns as range\n",
    "5.   Append the inputs to the empty lists\n",
    "6.   print the lists as matrix using nested loops\n",
    "7.   STOP"
   ]
  },
  {
   "cell_type": "code",
   "execution_count": 2,
   "metadata": {},
   "outputs": [
    {
     "name": "stdout",
     "output_type": "stream",
     "text": [
      "rows : 2\n",
      "Cols : 2\n",
      "Entries in row wise:\n",
      "2\n",
      "2\n",
      "2\n",
      "2\n",
      "2 2 \n",
      "2 2 \n"
     ]
    }
   ],
   "source": [
    "R = int(input(\"rows : \")) \n",
    "C = int(input(\"Cols : \")) \n",
    "matrix = [] \n",
    "print(\"Entries in row wise:\") \n",
    "\n",
    "for i in range(R):\n",
    "    a =[] \n",
    "    for j in range(C):\n",
    "        a.append(int(input())) \n",
    "    matrix.append(a) \n",
    "for i in range(R): \n",
    "    for j in range(C): \n",
    "        print(matrix[i][j], end = \" \") \n",
    "    print() "
   ]
  },
  {
   "cell_type": "markdown",
   "metadata": {},
   "source": [
    "# 5.2. Program to add two matrices using nested loops"
   ]
  },
  {
   "cell_type": "markdown",
   "metadata": {},
   "source": [
    "# ALGORITHM\n",
    "\n",
    "1.   DECLARE two matrices\n",
    "2.   DECLARE a zero matrix\n",
    "3.   create a nested for loop and add the two matrices\n",
    "4.   STORE the result in the zero matrix\n",
    "5.   create a for loop to print the result\n",
    "6.   STOP"
   ]
  },
  {
   "cell_type": "code",
   "execution_count": null,
   "metadata": {},
   "outputs": [],
   "source": [
    "X = [[1,2], [2,3]] \n",
    "Y = [[3,4],[4,5]] \n",
    "\n",
    "result = [[0,0],[0,0]] \n",
    "for i in range(len(X)): \n",
    "    for j in range(len(X[0])): \n",
    "        result[i][j] = X[i][j] + Y[i][j] \n",
    "for r in result: \n",
    "    print(r) "
   ]
  },
  {
   "cell_type": "markdown",
   "metadata": {},
   "source": [
    "# 5.3. Program to multiply two matrices using nested loops"
   ]
  },
  {
   "cell_type": "markdown",
   "metadata": {},
   "source": [
    "# ALGORITHM\n",
    "\n",
    "1.   DECLARE two matrices\n",
    "2.   DECLARE a zero matrix\n",
    "3.   CREATE a nested for loop and multiply the matrices\n",
    "4.   STORE the result in the zero matrix\n",
    "5.   CREATE a for loop to print the result\n",
    "6.   STOP"
   ]
  },
  {
   "cell_type": "code",
   "execution_count": null,
   "metadata": {},
   "outputs": [],
   "source": [
    "A = [[2,3],[4,5]]  \n",
    "B = [[2,5],[8,9]] \n",
    "result = [[0,0],[0,0]] \n",
    "\n",
    "for i in range(len(A)): \n",
    "    for j in range(len(B[0])): \n",
    "        for k in range(len(B)): \n",
    "            result[i][j] += A[i][k] * B[k][j] \n",
    "\n",
    "for r in result: \n",
    "    print(r) "
   ]
  },
  {
   "cell_type": "markdown",
   "metadata": {},
   "source": [
    "# RESULT\n",
    "ALL THE PROBLEMS HAS BEEN COMPLETED."
   ]
  }
 ],
 "metadata": {
  "kernelspec": {
   "display_name": "Python 3",
   "language": "python",
   "name": "python3"
  },
  "language_info": {
   "codemirror_mode": {
    "name": "ipython",
    "version": 3
   },
   "file_extension": ".py",
   "mimetype": "text/x-python",
   "name": "python",
   "nbconvert_exporter": "python",
   "pygments_lexer": "ipython3",
   "version": "3.8.5"
  }
 },
 "nbformat": 4,
 "nbformat_minor": 4
}
